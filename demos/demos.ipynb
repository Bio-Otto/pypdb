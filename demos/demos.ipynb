{
 "cells": [
  {
   "cell_type": "markdown",
   "metadata": {},
   "source": [
    "# pypdb demos\n",
    "\n",
    "This is a set of basic examples of the usage and outputs of the various individual functions included in. There are generally three types of functions:\n",
    "\n",
    "+ Functions that perform searches and return lists of PDB IDs\n",
    "+ Functions that get information about specific PDB IDs\n",
    "\n",
    "The list of supported search types, as well as the different types of information that can be returned for a given PDB ID, is large (and growing) and is enumerated in the docstrings of pypdb.py. The PDB allows a very wide range of different types of queries, and so any option that is not currently available can likely be implemented based on the structure of the query types that have already been implemented. Please submit feedback and pull requests on GitHub."
   ]
  },
  {
   "cell_type": "markdown",
   "metadata": {},
   "source": [
    "### Preamble"
   ]
  },
  {
   "cell_type": "code",
   "execution_count": 1,
   "metadata": {},
   "outputs": [
    {
     "name": "stdout",
     "output_type": "stream",
     "text": [
      "Populating the interactive namespace from numpy and matplotlib\n"
     ]
    }
   ],
   "source": [
    "%pylab inline\n",
    "from IPython.display import HTML\n",
    "\n",
    "## Import from local directory\n",
    "import sys\n",
    "sys.path.insert(0, '../pypdb')\n",
    "from pypdb import *\n",
    "\n",
    "## Import from installed package\n",
    "# from pypdb import *\n",
    "\n",
    "%load_ext autoreload\n",
    "%autoreload 2"
   ]
  },
  {
   "cell_type": "markdown",
   "metadata": {},
   "source": [
    "# Search functions that return lists of PDB IDs"
   ]
  },
  {
   "cell_type": "markdown",
   "metadata": {},
   "source": [
    "#### Get a list of PDBs for a specific search term"
   ]
  },
  {
   "cell_type": "code",
   "execution_count": 2,
   "metadata": {},
   "outputs": [
    {
     "name": "stdout",
     "output_type": "stream",
     "text": [
      "['4HMY', '6E5N', '1D7M', '1WAA', '5LPN', '4DCN', '4ETO', '6CM9', '6CRI', '6D83']\n"
     ]
    }
   ],
   "source": [
    "found_pdbs = Query(\"actin network\").search()\n",
    "print(found_pdbs[:10])"
   ]
  },
  {
   "cell_type": "markdown",
   "metadata": {},
   "source": [
    "#### Search by PubMed ID Number"
   ]
  },
  {
   "cell_type": "code",
   "execution_count": 3,
   "metadata": {},
   "outputs": [
    {
     "name": "stdout",
     "output_type": "stream",
     "text": [
      "['5IMT', '5IMW', '5IMY']\n"
     ]
    }
   ],
   "source": [
    "found_pdbs = Query(27499440, \"PubmedIdQuery\").search()\n",
    "print(found_pdbs[:10])"
   ]
  },
  {
   "cell_type": "markdown",
   "metadata": {},
   "source": [
    "#### Search by source organism using NCBI TaxId"
   ]
  },
  {
   "cell_type": "code",
   "execution_count": 68,
   "metadata": {},
   "outputs": [
    {
     "name": "stdout",
     "output_type": "stream",
     "text": [
      "['4AG7', '4AG9', '2F86', '1SEM', '1SKN']\n"
     ]
    }
   ],
   "source": [
    "found_pdbs = Query('6239', 'TreeEntityQuery').search() #TaxID for C elegans\n",
    "print(found_pdbs[:5])"
   ]
  },
  {
   "cell_type": "markdown",
   "metadata": {},
   "source": [
    "#### Search by a specific experimental method"
   ]
  },
  {
   "cell_type": "code",
   "execution_count": 4,
   "metadata": {},
   "outputs": [
    {
     "name": "stdout",
     "output_type": "stream",
     "text": [
      "['5LCB', '2RLZ', '6WAP', '2MC7', '2MCX', '2MCW', '2MCV', '2MCU', '2MEX', '2MJZ']\n"
     ]
    }
   ],
   "source": [
    "found_pdbs = Query('SOLID-STATE NMR', query_type='ExpTypeQuery').search()\n",
    "print(found_pdbs[:10])"
   ]
  },
  {
   "cell_type": "markdown",
   "metadata": {},
   "source": [
    "#### Search by protein structure similarity"
   ]
  },
  {
   "cell_type": "code",
   "execution_count": 81,
   "metadata": {},
   "outputs": [
    {
     "name": "stdout",
     "output_type": "stream",
     "text": [
      "['2E8D', '4OBA', '4OGV', '4JVR', '3LBL', '4QO4', '4JWR', '2WS4', '4ERE', '2CEU']\n"
     ]
    }
   ],
   "source": [
    "found_pdbs = Query('2E8D', query_type=\"structure\").search()\n",
    "print(found_pdbs[:10])"
   ]
  },
  {
   "cell_type": "markdown",
   "metadata": {},
   "source": [
    "#### Search by Author"
   ]
  },
  {
   "cell_type": "code",
   "execution_count": 80,
   "metadata": {},
   "outputs": [
    {
     "name": "stdout",
     "output_type": "stream",
     "text": [
      "['2HHB', '3HHB', '4HHB', '1PBX', '2MHB', '1CQ4', '1HDA', '1FDH', '1GDJ', '2GDM', '2DHB']\n"
     ]
    }
   ],
   "source": [
    "found_pdbs = Query('Perutz, M.F.', query_type='AdvancedAuthorQuery').search()\n",
    "print(found_pdbs)"
   ]
  },
  {
   "cell_type": "markdown",
   "metadata": {},
   "source": [
    "#### Search by organism"
   ]
  },
  {
   "cell_type": "code",
   "execution_count": 6,
   "metadata": {},
   "outputs": [
    {
     "name": "stdout",
     "output_type": "stream",
     "text": [
      "['2H84', '4AE3', '3MNQ', '5AN9', '6QKL', '2W94', '2W95', '2WN2', '2WN3', '4AKR']\n"
     ]
    }
   ],
   "source": [
    "q = Query(\"Dictyostelium\", query_type=\"OrganismQuery\")\n",
    "print(q.search()[:10])"
   ]
  },
  {
   "cell_type": "markdown",
   "metadata": {},
   "source": [
    "# Information Search functions\n",
    "While the basic functions described in the previous section are useful for looking up and manipulating individual unique entries, these functions are intended to be more user-facing: they take search keywords and return lists of authors or dates"
   ]
  },
  {
   "cell_type": "markdown",
   "metadata": {},
   "source": [
    "#### Find papers for a given keyword"
   ]
  },
  {
   "cell_type": "code",
   "execution_count": 4,
   "metadata": {},
   "outputs": [
    {
     "name": "stdout",
     "output_type": "stream",
     "text": [
      "['Structures of the Cmr-beta Complex Reveal the Regulation of the Immunity Mechanism of Type III-B CRISPR-Cas.', 'Structures of the Cmr-beta Complex Reveal the Regulation of the Immunity Mechanism of Type III-B CRISPR-Cas', 'Cas1-Cas2 complex formation mediates spacer acquisition during CRISPR-Cas adaptive immunity.', 'An RNA-Induced Conformational Change Required for Crispr RNA Cleavage by the Endoribonuclease Cse3.', 'Structural plasticity and in vivo activity of Cas1 from the type I-F CRISPR-Cas system.']\n"
     ]
    }
   ],
   "source": [
    "matching_papers = find_papers('crispr', max_results=10)\n",
    "print(list(matching_papers)[:10])"
   ]
  },
  {
   "cell_type": "markdown",
   "metadata": {},
   "source": [
    "# Functions that return information about single PDB IDs"
   ]
  },
  {
   "cell_type": "markdown",
   "metadata": {},
   "source": [
    "#### Get the full PDB file"
   ]
  },
  {
   "cell_type": "code",
   "execution_count": 9,
   "metadata": {},
   "outputs": [
    {
     "name": "stdout",
     "output_type": "stream",
     "text": [
      "data_4LZA\n",
      "# \n",
      "_entry.id   4LZA \n",
      "# \n",
      "_audit_conform.dict_name       mmcif_pdbx.dic \n",
      "_audit_conform.dict_version    5.281 \n",
      "_audit_conform.dict_location   http://mmcif.pdb.org/dictionaries/ascii/mmcif_pdbx.dic \n",
      "# \n",
      "loop_\n",
      "_database_2.database_id \n",
      "_database_2.database_code \n",
      "PDB   4LZA         \n",
      "RCSB  RCSB081269   \n",
      "WWPDB D_1000081269 \n",
      "# \n",
      "_pdbx_database_related.db_name        TargetTrack \n",
      "_pdbx_database_rela\n"
     ]
    }
   ],
   "source": [
    "pdb_file = get_pdb_file('4lza', filetype='cif', compression=False)\n",
    "print(pdb_file[:400])"
   ]
  },
  {
   "cell_type": "markdown",
   "metadata": {},
   "source": [
    "#### Get a general description of the entry's metadata"
   ]
  },
  {
   "cell_type": "code",
   "execution_count": 11,
   "metadata": {},
   "outputs": [
    {
     "name": "stdout",
     "output_type": "stream",
     "text": [
      "['audit_author', 'cell', 'citation', 'diffrn', 'diffrn_detector', 'diffrn_radiation', 'diffrn_source', 'entry', 'exptl', 'exptl_crystal', 'exptl_crystal_grow', 'pdbx_sgproject', 'pdbx_audit_revision_details', 'pdbx_audit_revision_history', 'pdbx_database_related', 'pdbx_database_status', 'pdbx_vrpt_summary', 'rcsb_accession_info', 'rcsb_entry_container_identifiers', 'rcsb_entry_info', 'rcsb_primary_citation', 'refine', 'refine_hist', 'refine_ls_restr', 'reflns', 'reflns_shell', 'software', 'struct', 'struct_keywords', 'symmetry', 'rcsb_id']\n"
     ]
    }
   ],
   "source": [
    "all_info = get_info('4LZA')\n",
    "print(list(all_info.keys()))"
   ]
  },
  {
   "cell_type": "markdown",
   "metadata": {},
   "source": [
    "#### Run a Sequence search\n",
    "\n",
    "Formerly using BLAST, this method now uses MMseqs2"
   ]
  },
  {
   "cell_type": "code",
   "execution_count": 20,
   "metadata": {},
   "outputs": [
    {
     "name": "stdout",
     "output_type": "stream",
     "text": [
      "{'query_id': '90344865-6c1d-448f-ba5b-64a2d727ade6', 'result_type': 'polymer_entity', 'total_count': 782, 'explain_meta_data': {'total_timing': 71, 'sort_timing': 0, 'terminal_node_timings': {'6469': 70}}, 'result_set': [{'identifier': '1C7D_1', 'score': 1.0, 'services': [{'service_type': 'sequence', 'nodes': [{'node_id': 6469, 'original_score': 164.0, 'norm_score': 1.0, 'match_context': [{'sequence_identity': 0.987, 'evalue': 2.053e-47, 'bitscore': 164, 'alignment_length': 80, 'mismatches': 0, 'gaps_opened': 1, 'query_beg': 1, 'query_end': 79, 'subject_beg': 144, 'subject_end': 223, 'query_length': 79, 'subject_length': 284, 'query_aligned_seq': 'VLSPADKTNVKAAWGKVGAHAGEYGAEALERMFLSFPTTKTYFPHFDLSHGSAQVKGHGKKVADALT-AVAHVDDMPNAL', 'subject_aligned_seq': 'VLSPADKTNVKAAWGKVGAHAGEYGAEALERMFLSFPTTKTYFPHFDLSHGSAQVKGHGKKVADALTNAVAHVDDMPNAL'}]}]}]}, {'identifier': '3OO5_1', 'score': 1.0, 'services': [{'service_type': 'sequence', 'nodes': [{'node_id': 6469, 'original_score': 164.0, 'norm_score': 1.0, 'match_context': [{'sequence_identity': 0.987, 'evalue': 2.053e-47, 'bitscore': 164, 'alignment_length': 80, 'mismatches': 0, 'gaps_opened': 1, 'query_beg': 1, 'query_end': 79, 'subject_beg': 1, 'subject_end': 80, 'query_length': 79, 'subject_length': 141, 'query_aligned_seq': 'VLSPADKTNVKAAWGKVGAHAGEYGAEALERMFLSFPTTKTYFPHFDLSHGSAQVKGHGKKVADALT-AVAHVDDMPNAL', 'subject_aligned_seq': 'VLSPADKTNVKAAWGKVGAHAGEYGAEALERMFLSFPTTKTYFPHFDLSHGSAQVKGHGKKVADALTNAVAHVDDMPNAL'}]}]}]}, {'identifier': '1HGC_1', 'score': 1.0, 'services': [{'service_type': 'sequence', 'nodes': [{'node_id': 6469, 'original_score': 164.0, 'norm_score': 1.0, 'match_context': [{'sequence_identity': 0.987, 'evalue': 2.053e-47, 'bitscore': 164, 'alignment_length': 80, 'mismatches': 0, 'gaps_opened': 1, 'query_beg': 1, 'query_end': 79, 'subject_beg': 1, 'subject_end': 80, 'query_length': 79, 'subject_length': 141, 'query_aligned_seq': 'VLSPADKTNVKAAWGKVGAHAGEYGAEALERMFLSFPTTKTYFPHFDLSHGSAQVKGHGKKVADALT-AVAHVDDMPNAL', 'subject_aligned_seq': 'VLSPADKTNVKAAWGKVGAHAGEYGAEALERMFLSFPTTKTYFPHFDLSHGSAQVKGHGKKVADALTNAVAHVDDMPNAL'}]}]}]}, {'identifier': '1YE2_1', 'score': 1.0, 'services': [{'service_type': 'sequence', 'nodes': [{'node_id': 6469, 'original_score': 164.0, 'norm_score': 1.0, 'match_context': [{'sequence_identity': 0.987, 'evalue': 2.053e-47, 'bitscore': 164, 'alignment_length': 80, 'mismatches': 0, 'gaps_opened': 1, 'query_beg': 1, 'query_end': 79, 'subject_beg': 1, 'subject_end': 80, 'query_length': 79, 'subject_length': 141, 'query_aligned_seq': 'VLSPADKTNVKAAWGKVGAHAGEYGAEALERMFLSFPTTKTYFPHFDLSHGSAQVKGHGKKVADALT-AVAHVDDMPNAL', 'subject_aligned_seq': 'VLSPADKTNVKAAWGKVGAHAGEYGAEALERMFLSFPTTKTYFPHFDLSHGSAQVKGHGKKVADALTNAVAHVDDMPNAL'}]}]}]}, {'identifier': '3R5I_1', 'score': 1.0, 'services': [{'service_type': 'sequence', 'nodes': [{'node_id': 6469, 'original_score': 164.0, 'norm_score': 1.0, 'match_context': [{'sequence_identity': 0.987, 'evalue': 2.053e-47, 'bitscore': 164, 'alignment_length': 80, 'mismatches': 0, 'gaps_opened': 1, 'query_beg': 1, 'query_end': 79, 'subject_beg': 1, 'subject_end': 80, 'query_length': 79, 'subject_length': 141, 'query_aligned_seq': 'VLSPADKTNVKAAWGKVGAHAGEYGAEALERMFLSFPTTKTYFPHFDLSHGSAQVKGHGKKVADALT-AVAHVDDMPNAL', 'subject_aligned_seq': 'VLSPADKTNVKAAWGKVGAHAGEYGAEALERMFLSFPTTKTYFPHFDLSHGSAQVKGHGKKVADALTNAVAHVDDMPNAL'}]}]}]}, {'identifier': '1RQA_1', 'score': 1.0, 'services': [{'service_type': 'sequence', 'nodes': [{'node_id': 6469, 'original_score': 164.0, 'norm_score': 1.0, 'match_context': [{'sequence_identity': 0.987, 'evalue': 2.053e-47, 'bitscore': 164, 'alignment_length': 80, 'mismatches': 0, 'gaps_opened': 1, 'query_beg': 1, 'query_end': 79, 'subject_beg': 1, 'subject_end': 80, 'query_length': 79, 'subject_length': 141, 'query_aligned_seq': 'VLSPADKTNVKAAWGKVGAHAGEYGAEALERMFLSFPTTKTYFPHFDLSHGSAQVKGHGKKVADALT-AVAHVDDMPNAL', 'subject_aligned_seq': 'VLSPADKTNVKAAWGKVGAHAGEYGAEALERMFLSFPTTKTYFPHFDLSHGSAQVKGHGKKVADALTNAVAHVDDMPNAL'}]}]}]}, {'identifier': '1RVW_1', 'score': 1.0, 'services': [{'service_type': 'sequence', 'nodes': [{'node_id': 6469, 'original_score': 164.0, 'norm_score': 1.0, 'match_context': [{'sequence_identity': 0.987, 'evalue': 2.053e-47, 'bitscore': 164, 'alignment_length': 80, 'mismatches': 0, 'gaps_opened': 1, 'query_beg': 1, 'query_end': 79, 'subject_beg': 1, 'subject_end': 80, 'query_length': 79, 'subject_length': 141, 'query_aligned_seq': 'VLSPADKTNVKAAWGKVGAHAGEYGAEALERMFLSFPTTKTYFPHFDLSHGSAQVKGHGKKVADALT-AVAHVDDMPNAL', 'subject_aligned_seq': 'VLSPADKTNVKAAWGKVGAHAGEYGAEALERMFLSFPTTKTYFPHFDLSHGSAQVKGHGKKVADALTNAVAHVDDMPNAL'}]}]}]}, {'identifier': '1B86_1', 'score': 1.0, 'services': [{'service_type': 'sequence', 'nodes': [{'node_id': 6469, 'original_score': 164.0, 'norm_score': 1.0, 'match_context': [{'sequence_identity': 0.987, 'evalue': 2.053e-47, 'bitscore': 164, 'alignment_length': 80, 'mismatches': 0, 'gaps_opened': 1, 'query_beg': 1, 'query_end': 79, 'subject_beg': 1, 'subject_end': 80, 'query_length': 79, 'subject_length': 141, 'query_aligned_seq': 'VLSPADKTNVKAAWGKVGAHAGEYGAEALERMFLSFPTTKTYFPHFDLSHGSAQVKGHGKKVADALT-AVAHVDDMPNAL', 'subject_aligned_seq': 'VLSPADKTNVKAAWGKVGAHAGEYGAEALERMFLSFPTTKTYFPHFDLSHGSAQVKGHGKKVADALTNAVAHVDDMPNAL'}]}]}]}, {'identifier': '2HBD_1', 'score': 1.0, 'services': [{'service_type': 'sequence', 'nodes': [{'node_id': 6469, 'original_score': 164.0, 'norm_score': 1.0, 'match_context': [{'sequence_identity': 0.987, 'evalue': 2.053e-47, 'bitscore': 164, 'alignment_length': 80, 'mismatches': 0, 'gaps_opened': 1, 'query_beg': 1, 'query_end': 79, 'subject_beg': 1, 'subject_end': 80, 'query_length': 79, 'subject_length': 141, 'query_aligned_seq': 'VLSPADKTNVKAAWGKVGAHAGEYGAEALERMFLSFPTTKTYFPHFDLSHGSAQVKGHGKKVADALT-AVAHVDDMPNAL', 'subject_aligned_seq': 'VLSPADKTNVKAAWGKVGAHAGEYGAEALERMFLSFPTTKTYFPHFDLSHGSAQVKGHGKKVADALTNAVAHVDDMPNAL'}]}]}]}, {'identifier': '1LFZ_1', 'score': 1.0, 'services': [{'service_type': 'sequence', 'nodes': [{'node_id': 6469, 'original_score': 164.0, 'norm_score': 1.0, 'match_context': [{'sequence_identity': 0.987, 'evalue': 2.053e-47, 'bitscore': 164, 'alignment_length': 80, 'mismatches': 0, 'gaps_opened': 1, 'query_beg': 1, 'query_end': 79, 'subject_beg': 1, 'subject_end': 80, 'query_length': 79, 'subject_length': 141, 'query_aligned_seq': 'VLSPADKTNVKAAWGKVGAHAGEYGAEALERMFLSFPTTKTYFPHFDLSHGSAQVKGHGKKVADALT-AVAHVDDMPNAL', 'subject_aligned_seq': 'VLSPADKTNVKAAWGKVGAHAGEYGAEALERMFLSFPTTKTYFPHFDLSHGSAQVKGHGKKVADALTNAVAHVDDMPNAL'}]}]}]}]}\n"
     ]
    }
   ],
   "source": [
    "q = Query(\"VLSPADKTNVKAAWGKVGAHAGEYGAEALERMFLSFPTTKTYFPHFDLSHGSAQVKGHGKKVADALTAVAHVDDMPNAL\", \n",
    "          query_type=\"sequence\", \n",
    "          return_type=\"polymer_entity\")\n",
    "\n",
    "print(q.search())"
   ]
  },
  {
   "cell_type": "markdown",
   "metadata": {},
   "source": [
    "#### Search by PFAM number"
   ]
  },
  {
   "cell_type": "code",
   "execution_count": 128,
   "metadata": {},
   "outputs": [
    {
     "name": "stdout",
     "output_type": "stream",
     "text": [
      "['4RRW', '4RRX', '4RRY', '4RRZ', '4RUT']\n"
     ]
    }
   ],
   "source": [
    "pfam_info = Query(\"PF00008\", query_type=\"pfam\").search()\n",
    "print(pfam_info[:5])"
   ]
  },
  {
   "cell_type": "code",
   "execution_count": null,
   "metadata": {},
   "outputs": [],
   "source": []
  },
  {
   "cell_type": "code",
   "execution_count": null,
   "metadata": {},
   "outputs": [],
   "source": []
  },
  {
   "cell_type": "code",
   "execution_count": null,
   "metadata": {},
   "outputs": [],
   "source": []
  },
  {
   "cell_type": "code",
   "execution_count": null,
   "metadata": {},
   "outputs": [],
   "source": []
  }
 ],
 "metadata": {
  "kernelspec": {
   "display_name": "Python 3",
   "language": "python",
   "name": "python3"
  },
  "language_info": {
   "codemirror_mode": {
    "name": "ipython",
    "version": 3
   },
   "file_extension": ".py",
   "mimetype": "text/x-python",
   "name": "python",
   "nbconvert_exporter": "python",
   "pygments_lexer": "ipython3",
   "version": "3.8.5"
  }
 },
 "nbformat": 4,
 "nbformat_minor": 4
}
