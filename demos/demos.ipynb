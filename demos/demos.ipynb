{
 "cells": [
  {
   "cell_type": "markdown",
   "metadata": {},
   "source": [
    "# pypdb demos\n",
    "\n",
    "This is a set of basic examples of the usage and outputs of the various individual functions included in. There are generally three types of functions."
   ]
  },
  {
   "cell_type": "markdown",
   "metadata": {},
   "source": [
    "### Preamble"
   ]
  },
  {
   "cell_type": "code",
   "execution_count": 1,
   "metadata": {},
   "outputs": [
    {
     "name": "stdout",
     "output_type": "stream",
     "text": [
      "Populating the interactive namespace from numpy and matplotlib\n"
     ]
    }
   ],
   "source": [
    "%pylab inline\n",
    "from IPython.display import HTML\n",
    "\n",
    "# Import from local directory\n",
    "# import sys\n",
    "# sys.path.insert(0, '../pypdb')\n",
    "# from pypdb import *\n",
    "\n",
    "# Import from installed package\n",
    "from pypdb import *\n",
    "\n",
    "%load_ext autoreload\n",
    "%autoreload 2"
   ]
  },
  {
   "cell_type": "markdown",
   "metadata": {},
   "source": [
    "# Search functions that return lists of PDB IDs"
   ]
  },
  {
   "cell_type": "markdown",
   "metadata": {},
   "source": [
    "#### Get a list of PDBs for a specific search term"
   ]
  },
  {
   "cell_type": "code",
   "execution_count": 2,
   "metadata": {},
   "outputs": [
    {
     "name": "stdout",
     "output_type": "stream",
     "text": [
      "['4HMY', '6E5N', '1D7M', '1WAA', '5LPN', '4DCN', '4ETO', '6CM9', '6CRI', '6D83']\n"
     ]
    }
   ],
   "source": [
    "found_pdbs = Query(\"actin network\").search()\n",
    "print(found_pdbs[:10])"
   ]
  },
  {
   "cell_type": "markdown",
   "metadata": {},
   "source": [
    "#### Search by PubMed ID Number"
   ]
  },
  {
   "cell_type": "code",
   "execution_count": 2,
   "metadata": {},
   "outputs": [
    {
     "name": "stdout",
     "output_type": "stream",
     "text": [
      "['5IMT', '5IMW', '5IMY']\n"
     ]
    }
   ],
   "source": [
    "found_pdbs = Query(27499440, \"PubmedIdQuery\").search()\n",
    "print(found_pdbs[:10])"
   ]
  },
  {
   "cell_type": "markdown",
   "metadata": {},
   "source": [
    "#### Search by source organism using NCBI TaxId"
   ]
  },
  {
   "cell_type": "code",
   "execution_count": 68,
   "metadata": {},
   "outputs": [
    {
     "name": "stdout",
     "output_type": "stream",
     "text": [
      "['4AG7', '4AG9', '2F86', '1SEM', '1SKN']\n"
     ]
    }
   ],
   "source": [
    "found_pdbs = Query('6239', 'TreeEntityQuery').search() #TaxID for C elegans\n",
    "print(found_pdbs[:5])"
   ]
  },
  {
   "cell_type": "markdown",
   "metadata": {},
   "source": [
    "#### Search by a specific experimental method"
   ]
  },
  {
   "cell_type": "code",
   "execution_count": 4,
   "metadata": {},
   "outputs": [
    {
     "name": "stdout",
     "output_type": "stream",
     "text": [
      "['5LCB', '2RLZ', '6WAP', '2MC7', '2MCX', '2MCW', '2MCV', '2MCU', '2MEX', '2MJZ']\n"
     ]
    }
   ],
   "source": [
    "found_pdbs = Query('SOLID-STATE NMR', query_type='ExpTypeQuery').search()\n",
    "print(found_pdbs[:10])"
   ]
  },
  {
   "cell_type": "markdown",
   "metadata": {},
   "source": [
    "#### Search by protein structure similarity"
   ]
  },
  {
   "cell_type": "code",
   "execution_count": 81,
   "metadata": {},
   "outputs": [
    {
     "name": "stdout",
     "output_type": "stream",
     "text": [
      "['2E8D', '4OBA', '4OGV', '4JVR', '3LBL', '4QO4', '4JWR', '2WS4', '4ERE', '2CEU']\n"
     ]
    }
   ],
   "source": [
    "found_pdbs = Query('2E8D', query_type=\"structure\").search()\n",
    "print(found_pdbs[:10])"
   ]
  },
  {
   "cell_type": "markdown",
   "metadata": {},
   "source": [
    "#### Search by Author"
   ]
  },
  {
   "cell_type": "code",
   "execution_count": 80,
   "metadata": {},
   "outputs": [
    {
     "name": "stdout",
     "output_type": "stream",
     "text": [
      "['2HHB', '3HHB', '4HHB', '1PBX', '2MHB', '1CQ4', '1HDA', '1FDH', '1GDJ', '2GDM', '2DHB']\n"
     ]
    }
   ],
   "source": [
    "found_pdbs = Query('Perutz, M.F.', query_type='AdvancedAuthorQuery').search()\n",
    "print(found_pdbs)"
   ]
  },
  {
   "cell_type": "markdown",
   "metadata": {},
   "source": [
    "#### Search by organism"
   ]
  },
  {
   "cell_type": "code",
   "execution_count": 6,
   "metadata": {},
   "outputs": [
    {
     "name": "stdout",
     "output_type": "stream",
     "text": [
      "['2H84', '4AE3', '3MNQ', '5AN9', '6QKL', '2W94', '2W95', '2WN2', '2WN3', '4AKR']\n"
     ]
    }
   ],
   "source": [
    "q = Query(\"Dictyostelium\", query_type=\"OrganismQuery\")\n",
    "print(q.search()[:10])"
   ]
  },
  {
   "cell_type": "markdown",
   "metadata": {},
   "source": [
    "# Information Search functions\n",
    "While the basic functions described in the previous section are useful for looking up and manipulating individual unique entries, these functions are intended to be more user-facing: they take search keywords and return lists of authors or dates"
   ]
  },
  {
   "cell_type": "markdown",
   "metadata": {},
   "source": [
    "#### Find papers for a given keyword"
   ]
  },
  {
   "cell_type": "code",
   "execution_count": 4,
   "metadata": {},
   "outputs": [
    {
     "name": "stdout",
     "output_type": "stream",
     "text": [
      "['Structures of the Cmr-beta Complex Reveal the Regulation of the Immunity Mechanism of Type III-B CRISPR-Cas.', 'Structures of the Cmr-beta Complex Reveal the Regulation of the Immunity Mechanism of Type III-B CRISPR-Cas', 'Cas1-Cas2 complex formation mediates spacer acquisition during CRISPR-Cas adaptive immunity.', 'An RNA-Induced Conformational Change Required for Crispr RNA Cleavage by the Endoribonuclease Cse3.', 'Structural plasticity and in vivo activity of Cas1 from the type I-F CRISPR-Cas system.']\n"
     ]
    }
   ],
   "source": [
    "matching_papers = find_papers('crispr', max_results=10)\n",
    "print(list(matching_papers)[:10])"
   ]
  },
  {
   "cell_type": "markdown",
   "metadata": {},
   "source": [
    "# Functions that return information about single PDB IDs"
   ]
  },
  {
   "cell_type": "markdown",
   "metadata": {},
   "source": [
    "#### Get the full PDB file"
   ]
  },
  {
   "cell_type": "code",
   "execution_count": 9,
   "metadata": {},
   "outputs": [
    {
     "name": "stdout",
     "output_type": "stream",
     "text": [
      "data_4LZA\n",
      "# \n",
      "_entry.id   4LZA \n",
      "# \n",
      "_audit_conform.dict_name       mmcif_pdbx.dic \n",
      "_audit_conform.dict_version    5.281 \n",
      "_audit_conform.dict_location   http://mmcif.pdb.org/dictionaries/ascii/mmcif_pdbx.dic \n",
      "# \n",
      "loop_\n",
      "_database_2.database_id \n",
      "_database_2.database_code \n",
      "PDB   4LZA         \n",
      "RCSB  RCSB081269   \n",
      "WWPDB D_1000081269 \n",
      "# \n",
      "_pdbx_database_related.db_name        TargetTrack \n",
      "_pdbx_database_rela\n"
     ]
    }
   ],
   "source": [
    "pdb_file = get_pdb_file('4lza', filetype='cif', compression=False)\n",
    "print(pdb_file[:400])"
   ]
  },
  {
   "cell_type": "markdown",
   "metadata": {},
   "source": [
    "#### Get a general description of the entry's metadata"
   ]
  },
  {
   "cell_type": "code",
   "execution_count": 11,
   "metadata": {},
   "outputs": [
    {
     "name": "stdout",
     "output_type": "stream",
     "text": [
      "['audit_author', 'cell', 'citation', 'diffrn', 'diffrn_detector', 'diffrn_radiation', 'diffrn_source', 'entry', 'exptl', 'exptl_crystal', 'exptl_crystal_grow', 'pdbx_sgproject', 'pdbx_audit_revision_details', 'pdbx_audit_revision_history', 'pdbx_database_related', 'pdbx_database_status', 'pdbx_vrpt_summary', 'rcsb_accession_info', 'rcsb_entry_container_identifiers', 'rcsb_entry_info', 'rcsb_primary_citation', 'refine', 'refine_hist', 'refine_ls_restr', 'reflns', 'reflns_shell', 'software', 'struct', 'struct_keywords', 'symmetry', 'rcsb_id']\n"
     ]
    }
   ],
   "source": [
    "all_info = get_info('4LZA')\n",
    "print(list(all_info.keys()))"
   ]
  },
  {
   "cell_type": "markdown",
   "metadata": {},
   "source": [
    "#### Run a Sequence search\n",
    "\n",
    "Formerly using BLAST, this method now uses MMseqs2"
   ]
  },
  {
   "cell_type": "code",
   "execution_count": 20,
   "metadata": {},
   "outputs": [
    {
     "name": "stdout",
     "output_type": "stream",
     "text": [
      "{'query_id': '90344865-6c1d-448f-ba5b-64a2d727ade6', 'result_type': 'polymer_entity', 'total_count': 782, 'explain_meta_data': {'total_timing': 71, 'sort_timing': 0, 'terminal_node_timings': {'6469': 70}}, 'result_set': [{'identifier': '1C7D_1', 'score': 1.0, 'services': [{'service_type': 'sequence', 'nodes': [{'node_id': 6469, 'original_score': 164.0, 'norm_score': 1.0, 'match_context': [{'sequence_identity': 0.987, 'evalue': 2.053e-47, 'bitscore': 164, 'alignment_length': 80, 'mismatches': 0, 'gaps_opened': 1, 'query_beg': 1, 'query_end': 79, 'subject_beg': 144, 'subject_end': 223, 'query_length': 79, 'subject_length': 284, 'query_aligned_seq': 'VLSPADKTNVKAAWGKVGAHAGEYGAEALERMFLSFPTTKTYFPHFDLSHGSAQVKGHGKKVADALT-AVAHVDDMPNAL', 'subject_aligned_seq': 'VLSPADKTNVKAAWGKVGAHAGEYGAEALERMFLSFPTTKTYFPHFDLSHGSAQVKGHGKKVADALTNAVAHVDDMPNAL'}]}]}]}, {'identifier': '3OO5_1', 'score': 1.0, 'services': [{'service_type': 'sequence', 'nodes': [{'node_id': 6469, 'original_score': 164.0, 'norm_score': 1.0, 'match_context': [{'sequence_identity': 0.987, 'evalue': 2.053e-47, 'bitscore': 164, 'alignment_length': 80, 'mismatches': 0, 'gaps_opened': 1, 'query_beg': 1, 'query_end': 79, 'subject_beg': 1, 'subject_end': 80, 'query_length': 79, 'subject_length': 141, 'query_aligned_seq': 'VLSPADKTNVKAAWGKVGAHAGEYGAEALERMFLSFPTTKTYFPHFDLSHGSAQVKGHGKKVADALT-AVAHVDDMPNAL', 'subject_aligned_seq': 'VLSPADKTNVKAAWGKVGAHAGEYGAEALERMFLSFPTTKTYFPHFDLSHGSAQVKGHGKKVADALTNAVAHVDDMPNAL'}]}]}]}, {'identifier': '1HGC_1', 'score': 1.0, 'services': [{'service_type': 'sequence', 'nodes': [{'node_id': 6469, 'original_score': 164.0, 'norm_score': 1.0, 'match_context': [{'sequence_identity': 0.987, 'evalue': 2.053e-47, 'bitscore': 164, 'alignment_length': 80, 'mismatches': 0, 'gaps_opened': 1, 'query_beg': 1, 'query_end': 79, 'subject_beg': 1, 'subject_end': 80, 'query_length': 79, 'subject_length': 141, 'query_aligned_seq': 'VLSPADKTNVKAAWGKVGAHAGEYGAEALERMFLSFPTTKTYFPHFDLSHGSAQVKGHGKKVADALT-AVAHVDDMPNAL', 'subject_aligned_seq': 'VLSPADKTNVKAAWGKVGAHAGEYGAEALERMFLSFPTTKTYFPHFDLSHGSAQVKGHGKKVADALTNAVAHVDDMPNAL'}]}]}]}, {'identifier': '1YE2_1', 'score': 1.0, 'services': [{'service_type': 'sequence', 'nodes': [{'node_id': 6469, 'original_score': 164.0, 'norm_score': 1.0, 'match_context': [{'sequence_identity': 0.987, 'evalue': 2.053e-47, 'bitscore': 164, 'alignment_length': 80, 'mismatches': 0, 'gaps_opened': 1, 'query_beg': 1, 'query_end': 79, 'subject_beg': 1, 'subject_end': 80, 'query_length': 79, 'subject_length': 141, 'query_aligned_seq': 'VLSPADKTNVKAAWGKVGAHAGEYGAEALERMFLSFPTTKTYFPHFDLSHGSAQVKGHGKKVADALT-AVAHVDDMPNAL', 'subject_aligned_seq': 'VLSPADKTNVKAAWGKVGAHAGEYGAEALERMFLSFPTTKTYFPHFDLSHGSAQVKGHGKKVADALTNAVAHVDDMPNAL'}]}]}]}, {'identifier': '3R5I_1', 'score': 1.0, 'services': [{'service_type': 'sequence', 'nodes': [{'node_id': 6469, 'original_score': 164.0, 'norm_score': 1.0, 'match_context': [{'sequence_identity': 0.987, 'evalue': 2.053e-47, 'bitscore': 164, 'alignment_length': 80, 'mismatches': 0, 'gaps_opened': 1, 'query_beg': 1, 'query_end': 79, 'subject_beg': 1, 'subject_end': 80, 'query_length': 79, 'subject_length': 141, 'query_aligned_seq': 'VLSPADKTNVKAAWGKVGAHAGEYGAEALERMFLSFPTTKTYFPHFDLSHGSAQVKGHGKKVADALT-AVAHVDDMPNAL', 'subject_aligned_seq': 'VLSPADKTNVKAAWGKVGAHAGEYGAEALERMFLSFPTTKTYFPHFDLSHGSAQVKGHGKKVADALTNAVAHVDDMPNAL'}]}]}]}, {'identifier': '1RQA_1', 'score': 1.0, 'services': [{'service_type': 'sequence', 'nodes': [{'node_id': 6469, 'original_score': 164.0, 'norm_score': 1.0, 'match_context': [{'sequence_identity': 0.987, 'evalue': 2.053e-47, 'bitscore': 164, 'alignment_length': 80, 'mismatches': 0, 'gaps_opened': 1, 'query_beg': 1, 'query_end': 79, 'subject_beg': 1, 'subject_end': 80, 'query_length': 79, 'subject_length': 141, 'query_aligned_seq': 'VLSPADKTNVKAAWGKVGAHAGEYGAEALERMFLSFPTTKTYFPHFDLSHGSAQVKGHGKKVADALT-AVAHVDDMPNAL', 'subject_aligned_seq': 'VLSPADKTNVKAAWGKVGAHAGEYGAEALERMFLSFPTTKTYFPHFDLSHGSAQVKGHGKKVADALTNAVAHVDDMPNAL'}]}]}]}, {'identifier': '1RVW_1', 'score': 1.0, 'services': [{'service_type': 'sequence', 'nodes': [{'node_id': 6469, 'original_score': 164.0, 'norm_score': 1.0, 'match_context': [{'sequence_identity': 0.987, 'evalue': 2.053e-47, 'bitscore': 164, 'alignment_length': 80, 'mismatches': 0, 'gaps_opened': 1, 'query_beg': 1, 'query_end': 79, 'subject_beg': 1, 'subject_end': 80, 'query_length': 79, 'subject_length': 141, 'query_aligned_seq': 'VLSPADKTNVKAAWGKVGAHAGEYGAEALERMFLSFPTTKTYFPHFDLSHGSAQVKGHGKKVADALT-AVAHVDDMPNAL', 'subject_aligned_seq': 'VLSPADKTNVKAAWGKVGAHAGEYGAEALERMFLSFPTTKTYFPHFDLSHGSAQVKGHGKKVADALTNAVAHVDDMPNAL'}]}]}]}, {'identifier': '1B86_1', 'score': 1.0, 'services': [{'service_type': 'sequence', 'nodes': [{'node_id': 6469, 'original_score': 164.0, 'norm_score': 1.0, 'match_context': [{'sequence_identity': 0.987, 'evalue': 2.053e-47, 'bitscore': 164, 'alignment_length': 80, 'mismatches': 0, 'gaps_opened': 1, 'query_beg': 1, 'query_end': 79, 'subject_beg': 1, 'subject_end': 80, 'query_length': 79, 'subject_length': 141, 'query_aligned_seq': 'VLSPADKTNVKAAWGKVGAHAGEYGAEALERMFLSFPTTKTYFPHFDLSHGSAQVKGHGKKVADALT-AVAHVDDMPNAL', 'subject_aligned_seq': 'VLSPADKTNVKAAWGKVGAHAGEYGAEALERMFLSFPTTKTYFPHFDLSHGSAQVKGHGKKVADALTNAVAHVDDMPNAL'}]}]}]}, {'identifier': '2HBD_1', 'score': 1.0, 'services': [{'service_type': 'sequence', 'nodes': [{'node_id': 6469, 'original_score': 164.0, 'norm_score': 1.0, 'match_context': [{'sequence_identity': 0.987, 'evalue': 2.053e-47, 'bitscore': 164, 'alignment_length': 80, 'mismatches': 0, 'gaps_opened': 1, 'query_beg': 1, 'query_end': 79, 'subject_beg': 1, 'subject_end': 80, 'query_length': 79, 'subject_length': 141, 'query_aligned_seq': 'VLSPADKTNVKAAWGKVGAHAGEYGAEALERMFLSFPTTKTYFPHFDLSHGSAQVKGHGKKVADALT-AVAHVDDMPNAL', 'subject_aligned_seq': 'VLSPADKTNVKAAWGKVGAHAGEYGAEALERMFLSFPTTKTYFPHFDLSHGSAQVKGHGKKVADALTNAVAHVDDMPNAL'}]}]}]}, {'identifier': '1LFZ_1', 'score': 1.0, 'services': [{'service_type': 'sequence', 'nodes': [{'node_id': 6469, 'original_score': 164.0, 'norm_score': 1.0, 'match_context': [{'sequence_identity': 0.987, 'evalue': 2.053e-47, 'bitscore': 164, 'alignment_length': 80, 'mismatches': 0, 'gaps_opened': 1, 'query_beg': 1, 'query_end': 79, 'subject_beg': 1, 'subject_end': 80, 'query_length': 79, 'subject_length': 141, 'query_aligned_seq': 'VLSPADKTNVKAAWGKVGAHAGEYGAEALERMFLSFPTTKTYFPHFDLSHGSAQVKGHGKKVADALT-AVAHVDDMPNAL', 'subject_aligned_seq': 'VLSPADKTNVKAAWGKVGAHAGEYGAEALERMFLSFPTTKTYFPHFDLSHGSAQVKGHGKKVADALTNAVAHVDDMPNAL'}]}]}]}]}\n"
     ]
    }
   ],
   "source": [
    "q = Query(\"VLSPADKTNVKAAWGKVGAHAGEYGAEALERMFLSFPTTKTYFPHFDLSHGSAQVKGHGKKVADALTAVAHVDDMPNAL\", \n",
    "          query_type=\"sequence\", \n",
    "          return_type=\"polymer_entity\")\n",
    "\n",
    "print(q.search())"
   ]
  },
  {
   "cell_type": "markdown",
   "metadata": {},
   "source": [
    "#### Search by PFAM number"
   ]
  },
  {
   "cell_type": "code",
   "execution_count": 5,
   "metadata": {},
   "outputs": [
    {
     "name": "stdout",
     "output_type": "stream",
     "text": [
      "['2F8Y', '2F8X', '2EC9', '2EI8', '2EI7']\n"
     ]
    }
   ],
   "source": [
    "pfam_info = Query(\"PF00008\", query_type=\"pfam\").search()\n",
    "print(pfam_info[:5])"
   ]
  },
  {
   "cell_type": "markdown",
   "metadata": {},
   "source": [
    "## Search for all entries that mention the word 'ribosome'"
   ]
  },
  {
   "cell_type": "code",
   "execution_count": 35,
   "metadata": {},
   "outputs": [
    {
     "name": "stdout",
     "output_type": "stream",
     "text": [
      "Querying RCSB Search using the following parameters:\n",
      " {\"query\": {\"type\": \"terminal\", \"service\": \"text\", \"parameters\": {\"value\": \"ribosome\"}}, \"request_options\": {\"return_all_hits\": true}, \"return_type\": \"entry\"} \n",
      "\n",
      "['1JGQ', '1JGP', '1JGO', '1IBM', '1IBL', '1IBK', '1ML5', '1SM1', '1NWY', '1NWX']\n"
     ]
    }
   ],
   "source": [
    "from pypdb.clients.search.search_client import perform_search\n",
    "from pypdb.clients.search.search_client import ReturnType\n",
    "from pypdb.clients.search.operators import text_operators\n",
    "\n",
    "search_operator = text_operators.DefaultOperator(value=\"ribosome\")\n",
    "return_type = ReturnType.ENTRY\n",
    "\n",
    "results = perform_search(search_operator, return_type)\n",
    "\n",
    "print(results[:10])"
   ]
  },
  {
   "cell_type": "markdown",
   "metadata": {},
   "source": [
    "## Search for polymers from 'Mus musculus'"
   ]
  },
  {
   "cell_type": "code",
   "execution_count": 34,
   "metadata": {},
   "outputs": [
    {
     "name": "stdout",
     "output_type": "stream",
     "text": [
      "Querying RCSB Search using the following parameters:\n",
      " {\"query\": {\"type\": \"terminal\", \"service\": \"text\", \"parameters\": {\"attribute\": \"rcsb_entity_source_organism.taxonomy_lineage.name\", \"operator\": \"exact_match\", \"value\": \"Mus musculus\"}}, \"request_options\": {\"return_all_hits\": true}, \"return_type\": \"polymer_entity\"} \n",
      "\n",
      "['4EVV_1', '1R2A_1', '4QTI_1', '4QTI_2', '5JON_1']\n"
     ]
    }
   ],
   "source": [
    "from pypdb.clients.search.search_client import perform_search\n",
    "from pypdb.clients.search.search_client import ReturnType\n",
    "from pypdb.clients.search.operators import text_operators\n",
    "\n",
    "search_operator = text_operators.ExactMatchOperator(value=\"Mus musculus\",\n",
    "                                                    attribute=\"rcsb_entity_source_organism.taxonomy_lineage.name\")\n",
    "return_type = ReturnType.POLYMER_ENTITY\n",
    "\n",
    "results = perform_search(search_operator, return_type)\n",
    "\n",
    "print(results[:5])"
   ]
  },
  {
   "cell_type": "markdown",
   "metadata": {},
   "source": [
    "## Search for non-polymers from 'Mus musculus' or 'Homo sapiens'"
   ]
  },
  {
   "cell_type": "code",
   "execution_count": 36,
   "metadata": {},
   "outputs": [
    {
     "name": "stdout",
     "output_type": "stream",
     "text": [
      "Querying RCSB Search using the following parameters:\n",
      " {\"query\": {\"type\": \"terminal\", \"service\": \"text\", \"parameters\": {\"attribute\": \"rcsb_entity_source_organism.taxonomy_lineage.name\", \"operator\": \"in\", \"value\": [\"Mus musculus\", \"Homo sapiens\"]}}, \"request_options\": {\"return_all_hits\": true}, \"return_type\": \"non_polymer_entity\"} \n",
      "\n",
      "['4IVE_2', '3OVZ_2', '3P7Z_2', '3OVZ_3', '3P7Z_3']\n"
     ]
    }
   ],
   "source": [
    "from pypdb.clients.search.search_client import perform_search\n",
    "from pypdb.clients.search.search_client import ReturnType\n",
    "from pypdb.clients.search.operators import text_operators\n",
    "\n",
    "search_operator = text_operators.InOperator(values=[\"Mus musculus\", \"Homo sapiens\"],\n",
    "                                            attribute=\"rcsb_entity_source_organism.taxonomy_lineage.name\")\n",
    "return_type = ReturnType.NON_POLYMER_ENTITY\n",
    "\n",
    "results = perform_search(search_operator, return_type)\n",
    "print(results[:5])"
   ]
  },
  {
   "cell_type": "markdown",
   "metadata": {},
   "source": [
    "## Search for polymer instances whose titles contain \"actin\" or \"binding\" or \"protein\""
   ]
  },
  {
   "cell_type": "code",
   "execution_count": 38,
   "metadata": {},
   "outputs": [
    {
     "name": "stdout",
     "output_type": "stream",
     "text": [
      "Querying RCSB Search using the following parameters:\n",
      " {\"query\": {\"type\": \"terminal\", \"service\": \"text\", \"parameters\": {\"attribute\": \"struct.title\", \"operator\": \"contains_words\", \"value\": \"actin-binding protein\"}}, \"request_options\": {\"return_all_hits\": true}, \"return_type\": \"polymer_instance\"} \n",
      "\n",
      "['1WM4.A', '1HQZ.H', '1HQZ.I', '1HQZ.F', '1HQZ.G']\n"
     ]
    }
   ],
   "source": [
    "\n",
    "from pypdb.clients.search.search_client import perform_search\n",
    "from pypdb.clients.search.search_client import ReturnType\n",
    "from pypdb.clients.search.operators import text_operators\n",
    "\n",
    "search_operator = text_operators.ContainsWordsOperator(value=\"actin-binding protein\",\n",
    "                                            attribute=\"struct.title\")\n",
    "return_type = ReturnType.POLYMER_INSTANCE\n",
    "\n",
    "results = perform_search(search_operator, return_type)\n",
    "\n",
    "print(results[:5])"
   ]
  },
  {
   "cell_type": "markdown",
   "metadata": {},
   "source": [
    "## Search for assemblies that contain the words \"actin binding protein\"\n",
    "(must be in that order).\n",
    "\n",
    "For example, \"actin-binding protein\" and \"actin binding protein\" will match,\n",
    "but \"protein binding actin\" will not."
   ]
  },
  {
   "cell_type": "code",
   "execution_count": 39,
   "metadata": {},
   "outputs": [
    {
     "name": "stdout",
     "output_type": "stream",
     "text": [
      "Querying RCSB Search using the following parameters:\n",
      " {\"query\": {\"type\": \"terminal\", \"service\": \"text\", \"parameters\": {\"attribute\": \"struct.title\", \"operator\": \"contains_phrase\", \"value\": \"actin-binding protein\"}}, \"request_options\": {\"return_all_hits\": true}, \"return_type\": \"assembly\"} \n",
      "\n",
      "['1HQZ-10', '1HQZ-7', '1HQZ-8', '1HQZ-5', '1HQZ-6']\n"
     ]
    }
   ],
   "source": [
    "from pypdb.clients.search.search_client import perform_search\n",
    "from pypdb.clients.search.search_client import ReturnType\n",
    "from pypdb.clients.search.operators import text_operators\n",
    "\n",
    "search_operator = text_operators.ContainsPhraseOperator(value=\"actin-binding protein\",\n",
    "                                            attribute=\"struct.title\")\n",
    "return_type = ReturnType.ASSEMBLY\n",
    "\n",
    "results = perform_search(search_operator, return_type)\n",
    "\n",
    "print(results[:5])"
   ]
  },
  {
   "cell_type": "markdown",
   "metadata": {},
   "source": [
    "## Search for entries released in 2019 or later"
   ]
  },
  {
   "cell_type": "code",
   "execution_count": 40,
   "metadata": {},
   "outputs": [
    {
     "name": "stdout",
     "output_type": "stream",
     "text": [
      "Querying RCSB Search using the following parameters:\n",
      " {\"query\": {\"type\": \"terminal\", \"service\": \"text\", \"parameters\": {\"attribute\": \"rcsb_accession_info.initial_release_date\", \"operator\": \"greater\", \"value\": \"2019-01-01T00:00:00Z\"}}, \"request_options\": {\"return_all_hits\": true}, \"return_type\": \"entry\"} \n",
      "\n",
      "['6JST', '6K4T', '6K55', '6JSS', '6JT4']\n"
     ]
    }
   ],
   "source": [
    "\n",
    "from pypdb.clients.search.search_client import perform_search\n",
    "from pypdb.clients.search.search_client import ReturnType\n",
    "from pypdb.clients.search.operators import text_operators\n",
    "\n",
    "search_operator = text_operators.ComparisonOperator(\n",
    "       value=\"2019-01-01T00:00:00Z\",\n",
    "       attribute=\"rcsb_accession_info.initial_release_date\",\n",
    "       comparison_type=text_operators.ComparisonType.GREATER)\n",
    "return_type = ReturnType.ENTRY\n",
    "\n",
    "results = perform_search(search_operator, return_type)\n",
    "\n",
    "print(results[:5])"
   ]
  },
  {
   "cell_type": "markdown",
   "metadata": {},
   "source": [
    "## Search for entries released only in 2019"
   ]
  },
  {
   "cell_type": "code",
   "execution_count": 43,
   "metadata": {},
   "outputs": [
    {
     "name": "stdout",
     "output_type": "stream",
     "text": [
      "Querying RCSB Search using the following parameters:\n",
      " {\"query\": {\"type\": \"terminal\", \"service\": \"text\", \"parameters\": {\"operator\": \"range\", \"attribute\": \"rcsb_accession_info.initial_release_date\", \"value\": {\"from\": \"2019-01-01T00:00:00Z\", \"to\": \"2020-01-01T00:00:00Z\", \"include_lower\": true, \"include_upper\": false}}}, \"request_options\": {\"return_all_hits\": true}, \"return_type\": \"entry\"} \n",
      "\n",
      "['6K4T', '6K4S', '6K4V', '6K57', '6JT6']\n"
     ]
    }
   ],
   "source": [
    "\n",
    "from pypdb.clients.search.search_client import perform_search\n",
    "from pypdb.clients.search.search_client import ReturnType\n",
    "from pypdb.clients.search.operators import text_operators\n",
    "\n",
    "search_operator = text_operators.RangeOperator(\n",
    "    from_value=\"2019-01-01T00:00:00Z\",\n",
    "    to_value=\"2020-01-01T00:00:00Z\",\n",
    "    include_lower=True,\n",
    "    include_upper=False,\n",
    "    attribute=\"rcsb_accession_info.initial_release_date\")\n",
    "return_type = ReturnType.ENTRY\n",
    "\n",
    "results = perform_search(search_operator, return_type)\n",
    "\n",
    "print(results[:5])"
   ]
  },
  {
   "cell_type": "markdown",
   "metadata": {},
   "source": [
    "## Search for structures under 4 angstroms of resolution"
   ]
  },
  {
   "cell_type": "code",
   "execution_count": 44,
   "metadata": {},
   "outputs": [
    {
     "name": "stdout",
     "output_type": "stream",
     "text": [
      "Querying RCSB Search using the following parameters:\n",
      " {\"query\": {\"type\": \"terminal\", \"service\": \"text\", \"parameters\": {\"attribute\": \"rcsb_entry_info.resolution_combined\", \"operator\": \"less\", \"value\": 4}}, \"request_options\": {\"return_all_hits\": true}, \"return_type\": \"entry\"} \n",
      "\n",
      "['5BRU', '5C3U', '5C46', '5BRX', '5BS9']\n"
     ]
    }
   ],
   "source": [
    "\n",
    "from pypdb.clients.search.search_client import perform_search\n",
    "from pypdb.clients.search.search_client import ReturnType\n",
    "from pypdb.clients.search.operators import text_operators\n",
    "\n",
    "search_operator = text_operators.ComparisonOperator(\n",
    "           value=4,\n",
    "           attribute=\"rcsb_entry_info.resolution_combined\",\n",
    "           comparison_type=text_operators.ComparisonType.LESS)\n",
    "return_type = ReturnType.ENTRY\n",
    "\n",
    "results = perform_search(search_operator, return_type)\n",
    "\n",
    "print(results[:5])"
   ]
  },
  {
   "cell_type": "markdown",
   "metadata": {},
   "source": [
    "## Search for structures with a given attribute.\n",
    "\n",
    "(Admittedly every structure has a release date, but the same logic would\n",
    " apply for a more sparse RCSB attribute).\n"
   ]
  },
  {
   "cell_type": "code",
   "execution_count": 45,
   "metadata": {},
   "outputs": [
    {
     "name": "stdout",
     "output_type": "stream",
     "text": [
      "Querying RCSB Search using the following parameters:\n",
      " {\"query\": {\"type\": \"terminal\", \"service\": \"text\", \"parameters\": {\"operator\": \"exists\", \"attribute\": \"rcsb_accession_info.initial_release_date\"}}, \"request_options\": {\"return_all_hits\": true}, \"return_type\": \"entry\"} \n",
      "\n",
      "['5BRU', '5C3U', '5C46', '5BRX', '5BS9']\n"
     ]
    }
   ],
   "source": [
    "from pypdb.clients.search.search_client import perform_search\n",
    "from pypdb.clients.search.search_client import ReturnType\n",
    "from pypdb.clients.search.operators import text_operators\n",
    "\n",
    "search_operator = text_operators.ExistsOperator(\n",
    "    attribute=\"rcsb_accession_info.initial_release_date\")\n",
    "return_type = ReturnType.ENTRY\n",
    "\n",
    "results = perform_search(search_operator, return_type)\n",
    "\n",
    "print(results[:5])"
   ]
  },
  {
   "cell_type": "markdown",
   "metadata": {},
   "source": [
    "## Search for 'Mus musculus' or 'Homo sapiens' structures after 2019 using graph search\n"
   ]
  },
  {
   "cell_type": "code",
   "execution_count": 20,
   "metadata": {},
   "outputs": [
    {
     "name": "stdout",
     "output_type": "stream",
     "text": [
      "Querying RCSB Search using the following parameters:\n",
      " {\"query\": {\"type\": \"group\", \"logical_operator\": \"and\", \"nodes\": [{\"type\": \"group\", \"logical_operator\": \"or\", \"nodes\": [{\"type\": \"terminal\", \"service\": \"text\", \"parameters\": {\"attribute\": \"rcsb_entity_source_organism.taxonomy_lineage.name\", \"operator\": \"exact_match\", \"value\": \"Mus musculus\"}}, {\"type\": \"terminal\", \"service\": \"text\", \"parameters\": {\"attribute\": \"rcsb_entity_source_organism.taxonomy_lineage.name\", \"operator\": \"exact_match\", \"value\": \"Homo sapiens\"}}]}, {\"type\": \"terminal\", \"service\": \"text\", \"parameters\": {\"attribute\": \"rcsb_entry_info.resolution_combined\", \"operator\": \"greater\", \"value\": 4}}]}, \"request_options\": {\"return_all_hits\": true}, \"return_type\": \"entry\"}\n",
      "\n",
      " ['6PYH', '1JL4', '6WOV', '6X5A', '6YAF', '6YAH', '6XJD', '6OE5', '6OEN', '4K24']\n"
     ]
    }
   ],
   "source": [
    "from pypdb.clients.search.search_client import perform_search_with_graph\n",
    "from pypdb.clients.search.search_client import ReturnType\n",
    "from pypdb.clients.search.search_client import QueryGroup, LogicalOperator\n",
    "from pypdb.clients.search.operators import text_operators\n",
    "\n",
    "# SearchOperator associated with structures with under 4 Angstroms of resolution\n",
    "under_4A_resolution_operator = text_operators.ComparisonOperator(\n",
    "       value=4,\n",
    "       attribute=\"rcsb_entry_info.resolution_combined\",\n",
    "       comparison_type=text_operators.ComparisonType.GREATER)\n",
    "\n",
    "# SearchOperator associated with entities containing 'Mus musculus' lineage\n",
    "is_mus_operator = text_operators.ExactMatchOperator(\n",
    "            value=\"Mus musculus\",\n",
    "            attribute=\"rcsb_entity_source_organism.taxonomy_lineage.name\")\n",
    "\n",
    "# SearchOperator associated with entities containing 'Homo sapiens' lineage\n",
    "is_human_operator = text_operators.ExactMatchOperator(\n",
    "            value=\"Homo sapiens\",\n",
    "            attribute=\"rcsb_entity_source_organism.taxonomy_lineage.name\")\n",
    "\n",
    "# QueryGroup associated with being either human or `Mus musculus`\n",
    "is_human_or_mus_group = QueryGroup(\n",
    "    queries = [is_mus_operator, is_human_operator],\n",
    "    logical_operator = LogicalOperator.OR\n",
    ")\n",
    "\n",
    "# QueryGroup associated with being ((Human OR Mus) AND (Under 4 Angstroms))\n",
    "is_under_4A_and_human_or_mus_group = QueryGroup(\n",
    "    queries = [is_human_or_mus_group, under_4A_resolution_operator],\n",
    "    logical_operator = LogicalOperator.AND\n",
    ")\n",
    "\n",
    "return_type = ReturnType.ENTRY\n",
    "\n",
    "results = perform_search_with_graph(\n",
    "  query_object=is_under_4A_and_human_or_mus_group,\n",
    "  return_type=return_type)\n",
    "print(\"\\n\", results[:10]) # Huzzah"
   ]
  },
  {
   "cell_type": "code",
   "execution_count": null,
   "metadata": {},
   "outputs": [],
   "source": []
  },
  {
   "cell_type": "code",
   "execution_count": null,
   "metadata": {},
   "outputs": [],
   "source": []
  },
  {
   "cell_type": "code",
   "execution_count": null,
   "metadata": {},
   "outputs": [],
   "source": []
  },
  {
   "cell_type": "code",
   "execution_count": null,
   "metadata": {},
   "outputs": [],
   "source": []
  },
  {
   "cell_type": "code",
   "execution_count": null,
   "metadata": {},
   "outputs": [],
   "source": []
  }
 ],
 "metadata": {
  "kernelspec": {
   "display_name": "Python 3",
   "language": "python",
   "name": "python3"
  },
  "language_info": {
   "codemirror_mode": {
    "name": "ipython",
    "version": 3
   },
   "file_extension": ".py",
   "mimetype": "text/x-python",
   "name": "python",
   "nbconvert_exporter": "python",
   "pygments_lexer": "ipython3",
   "version": "3.8.5"
  }
 },
 "nbformat": 4,
 "nbformat_minor": 4
}
